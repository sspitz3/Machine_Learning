{
 "cells": [
  {
   "cell_type": "markdown",
   "metadata": {},
   "source": [
    "# Random Forest Implementation for Kaggle Titanic Dataset"
   ]
  },
  {
   "cell_type": "markdown",
   "metadata": {},
   "source": [
    "## Import the data"
   ]
  },
  {
   "cell_type": "code",
   "execution_count": 45,
   "metadata": {},
   "outputs": [],
   "source": [
    "import csv\n",
    "import numpy as np\n",
    "from sklearn.ensemble import RandomForestClassifier\n",
    "from sklearn.metrics import accuracy_score\n",
    "\n",
    "filename ='./data/train.csv'\n",
    "raw_data = open(filename)\n",
    "reader = csv.reader(raw_data)\n",
    "data=list(reader)"
   ]
  },
  {
   "cell_type": "markdown",
   "metadata": {},
   "source": [
    "## Clean the data"
   ]
  },
  {
   "cell_type": "code",
   "execution_count": 37,
   "metadata": {},
   "outputs": [],
   "source": [
    "Y_train = np.array([item[1] for item in data][1:]).astype(\"float\")\n",
    "Y_train = Y_train.reshape(Y_train.shape[0],1)\n",
    "\n",
    "X_train_sex = np.array([0. if item[4]=='male' else 1. for item in data[1:]])\n",
    "X_train_age = np.array([item[5] for item in data[1:]])\n",
    "mean_age = np.mean(np.extract(X_train_age != '',X_train_age).astype(\"float\"))\n",
    "X_train_age[X_train_age==''] = mean_age\n",
    "X_train_age = X_train_age.astype(\"float\")\n",
    "X_train_fare = np.array([item[9] for item in data[1:]]).astype(float)\n",
    "X_train = np.stack([X_train_sex,X_train_age,X_train_fare]).T"
   ]
  },
  {
   "cell_type": "code",
   "execution_count": 32,
   "metadata": {},
   "outputs": [],
   "source": [
    "clf = RandomForestClassifier()\n",
    "clf = clf.fit(X_train,Y_train.T[0])"
   ]
  },
  {
   "cell_type": "code",
   "execution_count": 33,
   "metadata": {},
   "outputs": [
    {
     "data": {
      "text/plain": [
       "0.9696969696969697"
      ]
     },
     "execution_count": 33,
     "metadata": {},
     "output_type": "execute_result"
    }
   ],
   "source": [
    "accuracy_score(clf.predict(X_train),Y_train.T[0])"
   ]
  },
  {
   "cell_type": "code",
   "execution_count": 47,
   "metadata": {},
   "outputs": [],
   "source": [
    "filename ='./data/test.csv'\n",
    "raw_data = open(filename)\n",
    "reader = csv.reader(raw_data)\n",
    "data=list(reader)"
   ]
  },
  {
   "cell_type": "code",
   "execution_count": 54,
   "metadata": {},
   "outputs": [],
   "source": [
    "Y_test = np.array([item[1] for item in data][1:]).astype(\"float\")\n",
    "Y_test = Y_train.reshape(Y_train.shape[0],1)\n",
    "\n",
    "X_test_sex = np.array([0. if item[3]=='male' else 1. for item in data[1:]])\n",
    "\n",
    "X_test_age = np.array([item[4] for item in data[1:]])\n",
    "mean_age = np.mean(np.extract(X_test_age != '',X_test_age).astype(\"float\"))\n",
    "X_test_age[X_test_age==''] = mean_age\n",
    "X_test_age = X_test_age.astype(\"float\")\n",
    "\n",
    "X_test_fare = np.array([item[8] for item in data[1:]])\n",
    "mean_fare = np.mean(np.extract(X_test_fare != '',X_test_fare).astype(\"float\"))\n",
    "X_test_fare[X_test_fare==''] = mean_fare\n",
    "X_test_fare = X_test_fare.astype(\"float\")\n",
    "\n",
    "X_test = np.stack([X_test_sex,X_test_age,X_test_fare]).T"
   ]
  },
  {
   "cell_type": "code",
   "execution_count": 82,
   "metadata": {},
   "outputs": [],
   "source": [
    "preds = clf.predict(X_test).astype(int)"
   ]
  },
  {
   "cell_type": "code",
   "execution_count": 84,
   "metadata": {},
   "outputs": [],
   "source": [
    "ids = np.array([item[0] for item in data[1:]]).astype(int)\n",
    "submit = np.stack([ids,preds])"
   ]
  },
  {
   "cell_type": "code",
   "execution_count": 86,
   "metadata": {},
   "outputs": [],
   "source": [
    "file = open(\"predictions.csv\",'w')\n",
    "np.savetxt(\"predictions.csv\",submit.T,delimiter=',',fmt='%i')"
   ]
  }
 ],
 "metadata": {
  "kernelspec": {
   "display_name": "Python 3",
   "language": "python",
   "name": "python3"
  },
  "language_info": {
   "codemirror_mode": {
    "name": "ipython",
    "version": 3
   },
   "file_extension": ".py",
   "mimetype": "text/x-python",
   "name": "python",
   "nbconvert_exporter": "python",
   "pygments_lexer": "ipython3",
   "version": "3.6.3"
  }
 },
 "nbformat": 4,
 "nbformat_minor": 2
}
