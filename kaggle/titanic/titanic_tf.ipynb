{
 "cells": [
  {
   "cell_type": "code",
   "execution_count": 1,
   "metadata": {},
   "outputs": [],
   "source": [
    "import csv\n",
    "import numpy as np\n",
    "import tensorflow as tf\n",
    "import matplotlib.pyplot as plt\n",
    "\n",
    "filename ='./data/train.csv'\n",
    "raw_data = open(filename)\n",
    "reader = csv.reader(raw_data)\n",
    "data=list(reader)"
   ]
  },
  {
   "cell_type": "code",
   "execution_count": 2,
   "metadata": {},
   "outputs": [],
   "source": [
    "Y_train = np.array([item[1] for item in data][1:]).astype(\"float\")\n",
    "Y_train = Y_train.reshape(Y_train.shape[0],1)"
   ]
  },
  {
   "cell_type": "code",
   "execution_count": 3,
   "metadata": {},
   "outputs": [],
   "source": [
    "X_train_sex = np.array([0. if item[4]=='male' else 1. for item in data[1:]])\n",
    "X_train_age = np.array([item[5] for item in data[1:]])\n",
    "mean_age = np.mean(np.extract(X_train_age != '',X_train_age).astype(\"float\"))\n",
    "X_train_age[X_train_age==''] = mean_age\n",
    "X_train_age = X_train_age.astype(\"float\")\n",
    "X_train_fare = np.array([item[9] for item in data[1:]]).astype(float)\n",
    "X_train = np.stack([X_train_sex,X_train_age,X_train_fare]).T"
   ]
  },
  {
   "cell_type": "code",
   "execution_count": 6,
   "metadata": {},
   "outputs": [
    {
     "name": "stdout",
     "output_type": "stream",
     "text": [
      "INFO:tensorflow:Using default config.\n",
      "WARNING:tensorflow:Using temporary folder as model directory: C:\\Users\\STEPHE~1\\AppData\\Local\\Temp\\tmpke0nsw79\n",
      "INFO:tensorflow:Using config: {'_task_type': None, '_task_id': 0, '_cluster_spec': <tensorflow.python.training.server_lib.ClusterSpec object at 0x00000258AE6EB7F0>, '_master': '', '_num_ps_replicas': 0, '_num_worker_replicas': 0, '_environment': 'local', '_is_chief': True, '_evaluation_master': '', '_tf_config': gpu_options {\n",
      "  per_process_gpu_memory_fraction: 1\n",
      "}\n",
      ", '_tf_random_seed': None, '_save_summary_steps': 100, '_save_checkpoints_secs': 600, '_session_config': None, '_save_checkpoints_steps': None, '_keep_checkpoint_max': 5, '_keep_checkpoint_every_n_hours': 10000, '_model_dir': 'C:\\\\Users\\\\STEPHE~1\\\\AppData\\\\Local\\\\Temp\\\\tmpke0nsw79'}\n",
      "WARNING:tensorflow:From <ipython-input-6-0ac3319f2f6a>:7: calling BaseEstimator.fit (from tensorflow.contrib.learn.python.learn.estimators.estimator) with x is deprecated and will be removed after 2016-12-01.\n",
      "Instructions for updating:\n",
      "Estimator is decoupled from Scikit Learn interface by moving into\n",
      "separate class SKCompat. Arguments x, y and batch_size are only\n",
      "available in the SKCompat class, Estimator will only accept input_fn.\n",
      "Example conversion:\n",
      "  est = Estimator(...) -> est = SKCompat(Estimator(...))\n",
      "WARNING:tensorflow:From <ipython-input-6-0ac3319f2f6a>:7: calling BaseEstimator.fit (from tensorflow.contrib.learn.python.learn.estimators.estimator) with y is deprecated and will be removed after 2016-12-01.\n",
      "Instructions for updating:\n",
      "Estimator is decoupled from Scikit Learn interface by moving into\n",
      "separate class SKCompat. Arguments x, y and batch_size are only\n",
      "available in the SKCompat class, Estimator will only accept input_fn.\n",
      "Example conversion:\n",
      "  est = Estimator(...) -> est = SKCompat(Estimator(...))\n",
      "INFO:tensorflow:Constructing forest with params = \n",
      "INFO:tensorflow:{'num_trees': 5, 'max_nodes': 100, 'bagging_fraction': 1.0, 'feature_bagging_fraction': 1.0, 'num_splits_to_consider': 3, 'max_fertile_nodes': 50, 'split_after_samples': 250, 'min_split_samples': 5, 'valid_leaf_threshold': 1, 'dominate_method': 'bootstrap', 'dominate_fraction': 0.99, 'num_classes': 2, 'num_features': 3, 'regression': False, 'bagged_num_features': 3, 'bagged_features': None, 'num_outputs': 1, 'num_output_columns': 3, 'split_initializations_per_input': 1, 'base_random_seed': 0}\n",
      "INFO:tensorflow:training graph for tree: 0\n",
      "INFO:tensorflow:training graph for tree: 1\n",
      "INFO:tensorflow:training graph for tree: 2\n",
      "INFO:tensorflow:training graph for tree: 3\n",
      "INFO:tensorflow:training graph for tree: 4\n",
      "INFO:tensorflow:Create CheckpointSaverHook.\n",
      "INFO:tensorflow:Saving checkpoints for 1 into C:\\Users\\STEPHE~1\\AppData\\Local\\Temp\\tmpke0nsw79\\model.ckpt.\n",
      "INFO:tensorflow:loss = -0.0, step = 1\n",
      "INFO:tensorflow:TensorForestLossHook resetting last_step.\n",
      "INFO:tensorflow:global_step/sec: 265.892\n",
      "INFO:tensorflow:loss = -98.0, step = 101 (0.376 sec)\n",
      "INFO:tensorflow:TensorForestLossHook requesting stop.\n",
      "INFO:tensorflow:Saving checkpoints for 134 into C:\\Users\\STEPHE~1\\AppData\\Local\\Temp\\tmpke0nsw79\\model.ckpt.\n",
      "INFO:tensorflow:Loss for final step: -98.0.\n"
     ]
    },
    {
     "data": {
      "text/plain": [
       "TensorForestEstimator(params=None)"
      ]
     },
     "execution_count": 6,
     "metadata": {},
     "output_type": "execute_result"
    }
   ],
   "source": [
    "params = tf.contrib.tensor_forest.python.tensor_forest.ForestHParams(\n",
    "  num_classes=2, num_features=3, regression=False,\n",
    "  num_trees=5, max_nodes=100)\n",
    "\n",
    "classifier = tf.contrib.tensor_forest.client.random_forest.TensorForestEstimator(params)\n",
    "\n",
    "classifier.fit(x=X_train.astype(np.float32), y=Y_train.astype(np.float32))\n",
    "\n",
    "#y_out = classifier.predict(x=x_test)"
   ]
  },
  {
   "cell_type": "code",
   "execution_count": 268,
   "metadata": {},
   "outputs": [],
   "source": [
    "tf.reset_default_graph()\n",
    "\n",
    "X = tf.placeholder(shape=(None,3),dtype=tf.float32)\n",
    "Y = tf.placeholder(shape=(None,1),dtype=tf.float32)\n",
    "\n",
    "W1 = tf.Variable(tf.random_uniform([3,6]))\n",
    "B1 = tf.Variable(tf.zeros([1,6]))\n",
    "\n",
    "Z1 = tf.add(tf.matmul(X,W1),B1)\n",
    "A1 = tf.nn.relu(Z1)\n",
    "\n",
    "W2 = tf.Variable(tf.random_uniform([6,1]))\n",
    "B2 = tf.Variable(tf.zeros([1,1]))\n",
    "\n",
    "\n",
    "ZL = tf.add(tf.matmul(A1,W2),B2)\n",
    "\n",
    "prediction = tf.nn.sigmoid(ZL)\n",
    "\n",
    "loss = tf.reduce_sum(tf.nn.sigmoid_cross_entropy_with_logits(logits = ZL,labels = Y))\n",
    "\n",
    "optimizer = tf.train.AdamOptimizer(.01)\n",
    "\n",
    "train = optimizer.minimize(loss)"
   ]
  },
  {
   "cell_type": "code",
   "execution_count": 269,
   "metadata": {},
   "outputs": [],
   "source": [
    "sess = tf.Session()\n",
    "init = tf.global_variables_initializer()\n",
    "sess.run(init)\n",
    "\n",
    "for i in range(5000):\n",
    "    sess.run(train,feed_dict={X:X_train,Y:Y_train})\n",
    "    #print(sess.run(loss,feed_dict={X:X_train,Y:Y_train}))"
   ]
  },
  {
   "cell_type": "code",
   "execution_count": 270,
   "metadata": {},
   "outputs": [
    {
     "data": {
      "text/plain": [
       "0.7833894500561167"
      ]
     },
     "execution_count": 270,
     "metadata": {},
     "output_type": "execute_result"
    }
   ],
   "source": [
    "predictions = sess.run(prediction,feed_dict={X:X_train,Y:Y_train}).T[0]\n",
    "\n",
    "predictions[predictions < .5] = 0\n",
    "predictions[predictions >= .5] =1\n",
    "\n",
    "np.sum(predictions.astype(int) == Y_train.T[0].astype(int))/predictions.shape[0]"
   ]
  },
  {
   "cell_type": "raw",
   "metadata": {},
   "source": [
    "X_train_age"
   ]
  },
  {
   "cell_type": "code",
   "execution_count": 72,
   "metadata": {},
   "outputs": [],
   "source": [
    "X_train = np.stack([X_train_sex,X_train_age]).T"
   ]
  },
  {
   "cell_type": "code",
   "execution_count": 77,
   "metadata": {},
   "outputs": [
    {
     "data": {
      "text/plain": [
       "array([ 0., 35.])"
      ]
     },
     "execution_count": 77,
     "metadata": {},
     "output_type": "execute_result"
    }
   ],
   "source": [
    "X_train[4]"
   ]
  },
  {
   "cell_type": "code",
   "execution_count": 60,
   "metadata": {},
   "outputs": [],
   "source": []
  },
  {
   "cell_type": "code",
   "execution_count": 217,
   "metadata": {},
   "outputs": [
    {
     "data": {
      "text/plain": [
       "['4',\n",
       " '1',\n",
       " '1',\n",
       " 'Futrelle, Mrs. Jacques Heath (Lily May Peel)',\n",
       " 'female',\n",
       " '35',\n",
       " '1',\n",
       " '0',\n",
       " '113803',\n",
       " '53.1',\n",
       " 'C123',\n",
       " 'S']"
      ]
     },
     "execution_count": 217,
     "metadata": {},
     "output_type": "execute_result"
    }
   ],
   "source": [
    "data[4]"
   ]
  },
  {
   "cell_type": "code",
   "execution_count": null,
   "metadata": {},
   "outputs": [],
   "source": []
  }
 ],
 "metadata": {
  "kernelspec": {
   "display_name": "Python 3",
   "language": "python",
   "name": "python3"
  },
  "language_info": {
   "codemirror_mode": {
    "name": "ipython",
    "version": 3
   },
   "file_extension": ".py",
   "mimetype": "text/x-python",
   "name": "python",
   "nbconvert_exporter": "python",
   "pygments_lexer": "ipython3",
   "version": "3.6.3"
  }
 },
 "nbformat": 4,
 "nbformat_minor": 2
}
