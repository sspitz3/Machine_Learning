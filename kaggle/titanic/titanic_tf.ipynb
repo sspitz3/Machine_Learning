{
 "cells": [
  {
   "cell_type": "code",
   "execution_count": 131,
   "metadata": {},
   "outputs": [],
   "source": [
    "import csv\n",
    "import numpy as np\n",
    "import tensorflow as tf\n",
    "import matplotlib.pyplot as plt\n",
    "\n",
    "filename ='./data/train.csv'\n",
    "raw_data = open(filename)\n",
    "reader = csv.reader(raw_data)\n",
    "data=list(reader)"
   ]
  },
  {
   "cell_type": "code",
   "execution_count": 104,
   "metadata": {},
   "outputs": [],
   "source": [
    "Y_train = np.array([item[1] for item in data][1:]).astype(\"float\")\n",
    "Y_train = Y_train.reshape(Y_train.shape[0],1)"
   ]
  },
  {
   "cell_type": "code",
   "execution_count": 226,
   "metadata": {},
   "outputs": [],
   "source": [
    "X_train_sex = np.array([0. if item[4]=='male' else 1. for item in data[1:]])\n",
    "X_train_age = np.array([item[5] for item in data[1:]])\n",
    "mean_age = np.mean(np.extract(X_train_age != '',X_train_age).astype(\"float\"))\n",
    "X_train_age[X_train_age==''] = mean_age\n",
    "X_train_age = X_train_age.astype(\"float\")\n",
    "X_train_fare = np.array([item[9] for item in data[1:]]).astype(float)\n",
    "X_train = np.stack([X_train_sex,X_train_age,X_train_fare]).T"
   ]
  },
  {
   "cell_type": "code",
   "execution_count": 268,
   "metadata": {},
   "outputs": [],
   "source": [
    "tf.reset_default_graph()\n",
    "\n",
    "X = tf.placeholder(shape=(None,3),dtype=tf.float32)\n",
    "Y = tf.placeholder(shape=(None,1),dtype=tf.float32)\n",
    "\n",
    "W1 = tf.Variable(tf.random_uniform([3,6]))\n",
    "B1 = tf.Variable(tf.zeros([1,6]))\n",
    "\n",
    "Z1 = tf.add(tf.matmul(X,W1),B1)\n",
    "A1 = tf.nn.relu(Z1)\n",
    "\n",
    "W2 = tf.Variable(tf.random_uniform([6,1]))\n",
    "B2 = tf.Variable(tf.zeros([1,1]))\n",
    "\n",
    "\n",
    "ZL = tf.add(tf.matmul(A1,W2),B2)\n",
    "\n",
    "prediction = tf.nn.sigmoid(ZL)\n",
    "\n",
    "loss = tf.reduce_sum(tf.nn.sigmoid_cross_entropy_with_logits(logits = ZL,labels = Y))\n",
    "\n",
    "optimizer = tf.train.AdamOptimizer(.01)\n",
    "\n",
    "train = optimizer.minimize(loss)"
   ]
  },
  {
   "cell_type": "code",
   "execution_count": 269,
   "metadata": {},
   "outputs": [],
   "source": [
    "sess = tf.Session()\n",
    "init = tf.global_variables_initializer()\n",
    "sess.run(init)\n",
    "\n",
    "for i in range(5000):\n",
    "    sess.run(train,feed_dict={X:X_train,Y:Y_train})\n",
    "    #print(sess.run(loss,feed_dict={X:X_train,Y:Y_train}))"
   ]
  },
  {
   "cell_type": "code",
   "execution_count": 270,
   "metadata": {},
   "outputs": [
    {
     "data": {
      "text/plain": [
       "0.7833894500561167"
      ]
     },
     "execution_count": 270,
     "metadata": {},
     "output_type": "execute_result"
    }
   ],
   "source": [
    "predictions = sess.run(prediction,feed_dict={X:X_train,Y:Y_train}).T[0]\n",
    "\n",
    "predictions[predictions < .5] = 0\n",
    "predictions[predictions >= .5] =1\n",
    "\n",
    "np.sum(predictions.astype(int) == Y_train.T[0].astype(int))/predictions.shape[0]"
   ]
  },
  {
   "cell_type": "raw",
   "metadata": {},
   "source": [
    "X_train_age"
   ]
  },
  {
   "cell_type": "code",
   "execution_count": 72,
   "metadata": {},
   "outputs": [],
   "source": [
    "X_train = np.stack([X_train_sex,X_train_age]).T"
   ]
  },
  {
   "cell_type": "code",
   "execution_count": 77,
   "metadata": {},
   "outputs": [
    {
     "data": {
      "text/plain": [
       "array([ 0., 35.])"
      ]
     },
     "execution_count": 77,
     "metadata": {},
     "output_type": "execute_result"
    }
   ],
   "source": [
    "X_train[4]"
   ]
  },
  {
   "cell_type": "code",
   "execution_count": 60,
   "metadata": {},
   "outputs": [],
   "source": []
  },
  {
   "cell_type": "code",
   "execution_count": 217,
   "metadata": {},
   "outputs": [
    {
     "data": {
      "text/plain": [
       "['4',\n",
       " '1',\n",
       " '1',\n",
       " 'Futrelle, Mrs. Jacques Heath (Lily May Peel)',\n",
       " 'female',\n",
       " '35',\n",
       " '1',\n",
       " '0',\n",
       " '113803',\n",
       " '53.1',\n",
       " 'C123',\n",
       " 'S']"
      ]
     },
     "execution_count": 217,
     "metadata": {},
     "output_type": "execute_result"
    }
   ],
   "source": [
    "data[4]"
   ]
  },
  {
   "cell_type": "code",
   "execution_count": null,
   "metadata": {},
   "outputs": [],
   "source": []
  }
 ],
 "metadata": {
  "kernelspec": {
   "display_name": "Python 3",
   "language": "python",
   "name": "python3"
  },
  "language_info": {
   "codemirror_mode": {
    "name": "ipython",
    "version": 3
   },
   "file_extension": ".py",
   "mimetype": "text/x-python",
   "name": "python",
   "nbconvert_exporter": "python",
   "pygments_lexer": "ipython3",
   "version": "3.6.3"
  }
 },
 "nbformat": 4,
 "nbformat_minor": 2
}
