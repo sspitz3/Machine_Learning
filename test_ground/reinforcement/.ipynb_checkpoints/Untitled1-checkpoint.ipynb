{
 "cells": [
  {
   "cell_type": "markdown",
   "metadata": {},
   "source": [
    "# Reinforcement Learning: Frozen Lake"
   ]
  },
  {
   "cell_type": "markdown",
   "metadata": {},
   "source": [
    "##### The Frozen Lake environment is a game with a 4x4 grid.  Some squares are safe, while others are not.  The player must navigate from a start square to an end square safely.  Every turn, the player chooses a direction to move in the grid.  There is some probability of movement in the chosen direction.  Here, I use a Q-learning algorithm to find an optimal choice of direction for every position in the grid."
   ]
  },
  {
   "cell_type": "markdown",
   "metadata": {},
   "source": [
    "## Load packages"
   ]
  },
  {
   "cell_type": "code",
   "execution_count": 1,
   "metadata": {},
   "outputs": [],
   "source": [
    "import gym ### gym package\n",
    "import matplotlib.pyplot as plt\n",
    "import scipy\n",
    "import numpy as np\n",
    "import random\n",
    "\n",
    "env = gym.make('FrozenLake-v0') ### Frozen Lake environment"
   ]
  },
  {
   "cell_type": "markdown",
   "metadata": {},
   "source": [
    "## Observe the grid.  \n",
    "##### S=start, G=goal, F=safe, H=not safe\n",
    "##### The cursor is the current position of the player."
   ]
  },
  {
   "cell_type": "code",
   "execution_count": 332,
   "metadata": {},
   "outputs": [
    {
     "name": "stdout",
     "output_type": "stream",
     "text": [
      "\n",
      "\u001b[41mS\u001b[0mFFF\n",
      "FHFH\n",
      "FFFH\n",
      "HFFG\n"
     ]
    }
   ],
   "source": [
    "state_0=env.reset()\n",
    "env.render()"
   ]
  },
  {
   "cell_type": "markdown",
   "metadata": {},
   "source": [
    "## Define Helper Functions used in Training\n",
    "\n",
    "##### If s is the current state and a is the chosen action, Q(s,a) is the expected reward.  We use the Bellman equation to update Q."
   ]
  },
  {
   "cell_type": "code",
   "execution_count": 5,
   "metadata": {},
   "outputs": [],
   "source": [
    "### Set initial parameters\n",
    "def set_parameters(alpha,beta,gamma,epsilon,num_episodes):\n",
    "    \n",
    "    ### alpha: learning rate\n",
    "    ### gamma: reward discount rate\n",
    "    ### beta: dynamic exploration factor\n",
    "    ### epsilon: exploration rate\n",
    "    \n",
    "    parameters = {}\n",
    "    \n",
    "    parameters['alpha'] = alpha\n",
    "    parameters['gamma'] = gamma\n",
    "    parameters['beta'] = beta\n",
    "    parameters['epsilon'] = epsilon\n",
    "    parameters['num_episodes'] = num_episodes\n",
    "    \n",
    "    return parameters\n",
    "\n",
    "### Choose an action given Q, current state, and exploration rate\n",
    "def action_choice(Q,state_0,epsilon):\n",
    "    \n",
    "    random_action = random.choice([0,1,2,3])\n",
    "    alg_action = np.argmax(Q[state_0])\n",
    "\n",
    "    if np.random.binomial(1,epsilon) == 0:\n",
    "        a = alg_action\n",
    "    else:\n",
    "        a = random_action\n",
    "    \n",
    "    return a\n",
    "\n",
    "### Update Q given action choice\n",
    "def update_Q(Q,a,parameters):\n",
    "    \n",
    "    target = (parameters['reward'] + parameters['gamma']*np.max(Q[parameters['state_1'],:]) - Q[parameters['state_0'],a])\n",
    "    \n",
    "    return Q[parameters['state_0'],a] + parameters['alpha'] * target\n",
    "\n",
    "### Performance over most recent 100 episodes\n",
    "def update_perf(rlist):\n",
    "    \n",
    "    if len(rlist) > 100:\n",
    "        return np.mean(rlist[-100:])\n",
    "\n",
    "### Update exploration rate given recent performance\n",
    "def update_epsilon(perf,parameters):\n",
    "    \n",
    "    if len(perf) > 2 and perf[-1] < perf[-2]:\n",
    "        return min(parameters['beta'] * parameters['epsilon'],1)\n",
    "    elif len(perf) > 2 and perf[-1] > perf[-2]:\n",
    "        return 1/parameters['beta'] * parameters['epsilon']\n",
    "    else:\n",
    "        return parameters['epsilon']\n",
    "    "
   ]
  },
  {
   "cell_type": "markdown",
   "metadata": {},
   "source": [
    "## Training function\n",
    "##### We take the following steps for num_episodes:\n",
    "##### (1) initialize parameters\n",
    "##### (2) get initial state\n",
    "##### (3) With probability epsilon, choose either a random action or the action dictated by Q\n",
    "##### (4) Take the action, observe the new state and reward\n",
    "##### (5) Update Q according to Bellman equation\n",
    "##### (6) Track the total reward\n",
    "##### (7) Exit loop if end state is reached"
   ]
  },
  {
   "cell_type": "code",
   "execution_count": 365,
   "metadata": {},
   "outputs": [],
   "source": [
    "def train_model(alpha,beta,gamma,epsilon_0,num_episodes):\n",
    "\n",
    "    env = gym.make('FrozenLake-v0')    ###Initialize environment\n",
    "    Q = np.zeros([env.observation_space.n,env.action_space.n])    ###Initialize Q function\n",
    "    parameters = set_parameters(alpha,beta,gamma,epsilon_0,num_episodes)    ###Initialize parameters\n",
    "\n",
    "    perf = []    ###Running average performance of last 100 episodes\n",
    "    epsilons = []    ###Epsilons used in each episode\n",
    "    rList = []    ###Total reward obtained in each episode\n",
    "\n",
    "\n",
    "    for i in range(parameters['num_episodes']):\n",
    "        \n",
    "        parameters['state_0'] = env.reset()\n",
    "        r = 0\n",
    "\n",
    "        for t in range(100):\n",
    "\n",
    "            ### Choice action\n",
    "            a = action_choice(Q,parameters['state_0'],parameters['epsilon'])\n",
    "\n",
    "            ### Perform action\n",
    "            parameters['state_1'],parameters['reward'],parameters['d'],_ = env.step(a)\n",
    "            \n",
    "            ### Update Q\n",
    "            Q[parameters['state_0'],a] = update_Q(Q,a,parameters)\n",
    "            \n",
    "            r += parameters['reward']\n",
    "            \n",
    "            ### Update state\n",
    "            parameters['state_0'] = parameters['state_1']\n",
    "\n",
    "            ### Restart if game ended\n",
    "            if parameters['d']==True:\n",
    "                break\n",
    "\n",
    "        ### Total reward for current episode\n",
    "        rList.append(r)\n",
    "\n",
    "        ### Track performance\n",
    "        if len(rList) > 100:\n",
    "            perf.append(update_perf(rList))\n",
    "            \n",
    "            \n",
    "        ### Update epsilon\n",
    "        parameters['epsilon'] = update_epsilon(perf,parameters)\n",
    "\n",
    "    return Q,perf"
   ]
  },
  {
   "cell_type": "markdown",
   "metadata": {},
   "source": [
    "## Hyperparameter Exploration\n",
    "##### Allow variation is hyperparameters to find an optimum.  As a proxy for performance, we take the average of the last 20 episodes."
   ]
  },
  {
   "cell_type": "code",
   "execution_count": 369,
   "metadata": {},
   "outputs": [
    {
     "name": "stdout",
     "output_type": "stream",
     "text": [
      "new leader(0.8, 1.1, 0.8)0.0075000000000000015\n",
      "new leader(0.8, 1.1, 0.8375)0.044500000000000005\n",
      "new leader(0.8, 1.1, 0.875)0.08950000000000001\n",
      "new leader(0.8, 1.125, 0.875)0.285\n",
      "new leader(0.8, 1.125, 0.95)0.7275\n",
      "new leader(0.8, 1.15, 0.9125)0.7665\n",
      "new leader(0.8, 1.175, 0.9125)0.7735\n",
      "new leader(0.8250000000000001, 1.2, 0.9125)0.7820000000000003\n",
      "new leader(0.8500000000000001, 1.125, 0.95)0.8010000000000002\n",
      "new leader(0.8500000000000001, 1.15, 0.95)0.8019999999999999\n",
      "new leader(0.875, 1.175, 0.95)0.8215\n"
     ]
    }
   ],
   "source": [
    "env = gym.make('FrozenLake-v0')\n",
    "env.seed(0)\n",
    "np.random.seed(123)\n",
    "hyper_parameters=[(alpha,beta,gamma) for alpha in np.linspace(.8,.9,5) for beta in np.linspace(1.1,1.2,5) for gamma in np.linspace(.8,.95,5)]\n",
    "leader = 0.0\n",
    "for i in range(125):\n",
    "    Q,perf = train_model(hyper_parameters[i][0],hyper_parameters[i][1],hyper_parameters[i][2],.5,2000)\n",
    "    \n",
    "    if np.mean(perf[-20:]) > leader:\n",
    "        leader = np.mean(perf[-20:])\n",
    "        print(\"new leader\"+str(hyper_parameters[i])+str(leader))"
   ]
  },
  {
   "cell_type": "markdown",
   "metadata": {},
   "source": [
    "## Observe performance over training time"
   ]
  },
  {
   "cell_type": "code",
   "execution_count": 370,
   "metadata": {},
   "outputs": [
    {
     "name": "stdout",
     "output_type": "stream",
     "text": [
      "0.7404999999999999\n"
     ]
    },
    {
     "data": {
      "text/plain": [
       "[<matplotlib.lines.Line2D at 0x1b2376e7390>]"
      ]
     },
     "execution_count": 370,
     "metadata": {},
     "output_type": "execute_result"
    },
    {
     "data": {
      "image/png": "[encoded data removed]",
      "text/plain": [
       "<matplotlib.figure.Figure at 0x1b23762e7b8>"
      ]
     },
     "metadata": {},
     "output_type": "display_data"
    }
   ],
   "source": [
    "env = gym.make('FrozenLake-v0')\n",
    "env.seed(0)\n",
    "np.random.seed(123)\n",
    "Q,perf = train_model(.875,1.175,.95,.5,2000)\n",
    "print(np.mean(perf[-20:]))\n",
    "plt.plot(perf)"
   ]
  },
  {
   "cell_type": "markdown",
   "metadata": {},
   "source": [
    "## Testing Phase"
   ]
  },
  {
   "cell_type": "code",
   "execution_count": 372,
   "metadata": {},
   "outputs": [
    {
     "name": "stdout",
     "output_type": "stream",
     "text": [
      "Average performance:0.7468\n"
     ]
    }
   ],
   "source": [
    "env.seed(321)\n",
    "num_episodes = 5000\n",
    "rlist = []\n",
    "statelist = []\n",
    "for j in range(num_episodes):\n",
    "    done = False\n",
    "    state_0 = env.reset()\n",
    "    r = 0\n",
    "    for i in range(200):\n",
    "        a = np.argmax(Q[state_0])\n",
    "        #a = policy[state_0]\n",
    "        state_0,reward,done,_ = env.step(a)\n",
    "        r += reward\n",
    "        if done:\n",
    "            statelist.append([state_0,i])\n",
    "            break\n",
    "        \n",
    "    rlist.append(r)\n",
    "\n",
    "print(\"Average performance:\" + str(np.mean(rlist)))\n"
   ]
  }
 ],
 "metadata": {
  "kernelspec": {
   "display_name": "Python 3",
   "language": "python",
   "name": "python3"
  },
  "language_info": {
   "codemirror_mode": {
    "name": "ipython",
    "version": 3
   },
   "file_extension": ".py",
   "mimetype": "text/x-python",
   "name": "python",
   "nbconvert_exporter": "python",
   "pygments_lexer": "ipython3",
   "version": "3.6.4"
  }
 },
 "nbformat": 4,
 "nbformat_minor": 2
}
